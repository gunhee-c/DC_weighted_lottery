{
 "cells": [
  {
   "cell_type": "code",
   "execution_count": 25,
   "metadata": {},
   "outputs": [
    {
     "name": "stdout",
     "output_type": "stream",
     "text": [
      "The autoreload extension is already loaded. To reload it, use:\n",
      "  %reload_ext autoreload\n"
     ]
    }
   ],
   "source": [
    "%load_ext autoreload\n",
    "%autoreload 2\n"
   ]
  },
  {
   "cell_type": "code",
   "execution_count": null,
   "metadata": {},
   "outputs": [],
   "source": []
  },
  {
   "cell_type": "code",
   "execution_count": 26,
   "metadata": {},
   "outputs": [],
   "source": [
    "from sympy import symbols, sympify\n",
    "\n",
    "class Candidate:\n",
    "    \n",
    "    #누가 참여하는지 + 기본값\n",
    "    def __init__(self, candidate_name_list, candidate_init_value_list):\n",
    "        \"\"\"Initialize the candidate with name and initial values.\"\"\"\n",
    "        self.candidate_dict = dict(zip(candidate_name_list, candidate_init_value_list))\n",
    "        self.polling_event = []\n",
    "\n",
    "    def parse_polling_formula(self, formula, var1, var2):\n",
    "        \"\"\"Parse the polling formula to create a sympy expression.\"\"\"\n",
    "        vars = symbols(f'{var1} {var2}')\n",
    "        try:\n",
    "            expression = sympify(formula)\n",
    "            is_valid = True\n",
    "        except:\n",
    "            expression = sympify(f\"{vars[0]}-{vars[0]}\")  # Default expression\n",
    "            is_valid = False\n",
    "        return expression, is_valid\n",
    "\n",
    "    def add_polling_event(self, event_name_list, event_value_list, prize_name, prize_count, formula, var1, var2):\n",
    "        \"\"\"Add a polling event and its evaluation.\"\"\"\n",
    "        self.polling_event.append(PollingEvent(event_name_list, event_value_list, prize_name, prize_count))\n",
    "        self.add_polling_evaluation(len(self.polling_event) - 1, formula, var1, var2)\n",
    "\n",
    "\n",
    "    def get_polling_weight(self, event_index, parsing_formula, var1, var2):\n",
    "        \"\"\"Calculate polling weights based on the given formula.\"\"\"\n",
    "        event = self.polling_event[event_index]\n",
    "        expression, is_valid = self.parse_polling_formula(parsing_formula, var1, var2)\n",
    "\n",
    "        if not is_valid:\n",
    "            return \"Invalid Formula\"\n",
    "        \n",
    "        polling_weight = {}\n",
    "        for key in event.event_participants:\n",
    "            values = {var1: self.candidate_dict.get(key, 0), var2: event.event_participants[key]}\n",
    "            substituted_expression = expression.subs(values)\n",
    "            result = substituted_expression.evalf()\n",
    "            polling_weight[key] = result\n",
    "        return polling_weight\n",
    "\n",
    "    def add_polling_evaluation(self, event_index, parsing_formula, var1, var2):\n",
    "        polling_weight = self.get_polling_weight(event_index, parsing_formula, var1, var2)\n",
    "        self.polling_event[event_index].get_event_evaluation(polling_weight)\n",
    "        return self\n",
    "\n",
    "    def __str__(self):\n",
    "        \"\"\"String representation of Candidate object.\"\"\"\n",
    "        details = [\"Candidate\", str(self.candidate_dict), \"\\nPolling Event\"]\n",
    "        details.extend(str(event) for event in self.polling_event)\n",
    "        return \"\\n\".join(details)\n",
    "    \n",
    "class PollingEvent:\n",
    "    def __init__(self, event_name_list, event_value_list, prize_name, prize_count):\n",
    "        print(\"hi\")\n",
    "        self.event_participants = dict(zip(event_name_list, event_value_list))\n",
    "        self.prize_name = prize_name\n",
    "        self.prize_count = prize_count\n",
    "        self.event_evaluated = {}\n",
    "    \n",
    "    def get_event_evaluation(self, evaluation):\n",
    "        self.event_evaluated = evaluation\n",
    "        return self\n",
    "    \n",
    "    def __str__(self):\n",
    "        \n",
    "        return str(self.event_participants) + \" \" + self.prize_name + \" \" + str(self.prize_count) +\"\\nCalculate: \" + str(self.event_evaluated)\n",
    "\n"
   ]
  },
  {
   "cell_type": "code",
   "execution_count": 27,
   "metadata": {},
   "outputs": [
    {
     "name": "stdout",
     "output_type": "stream",
     "text": [
      "Data obtained from file Players.txt :\n",
      "['히메사카노아', '만중', '설화', '후후훈', 'srhgim', 'refos', '마야', '124Y01SKY', 'Junare', 'Beez', 'HL5T', 'N진화', 'OTDS', '옥돔피트', '채은서', 'Kafuu', 'Plutz', '무초', '솔2', '승마', 'Asura', '이너임', '이로오라']\n",
      "[5, 5, 5, 5, 4, 5, 5, 3, 3, 0, 0, 0, 5, 5, 5, 5, 5, 5, 5, 5, 5, 5, 5]\n",
      "23\n",
      "23\n",
      "Data obtained from file UCSwriter.txt :\n",
      "['히메사카노아', '만중', '설화', '후후훈', 'srhgim', 'refos', '마야', '124Y01SKY', 'Junare', 'Beez', 'HL5T', 'N진화']\n",
      "[1, 1, 1, 1, 1, 1, 1, 1, 1, 1, 1, 1]\n",
      "12\n",
      "12\n",
      "Data obtained from file UCSplayer.txt :\n",
      "['N진화', 'OTDS', '옥돔피트', '채은서', 'Kafuu', 'Plutz', 'Junare', '무초', 'refos', '솔2', '승마', 'Asura', '이너임', '이로오라']\n",
      "[5, 5, 5, 5, 1, 5, 5, 5, 5, 5, 5, 5, 5, 5]\n",
      "14\n",
      "14\n"
     ]
    }
   ],
   "source": [
    "#File 형식은 유저-\n",
    "def file_opener(filename, printme = False):\n",
    "    candidate_name_list = []\n",
    "    candidate_init_value_list = []\n",
    "    with open(filename, 'r') as f:\n",
    "        lines = f.readlines()\n",
    "        for index, line  in enumerate(lines):\n",
    "            if index%2 == 0:\n",
    "                candidate_name_list.append(line.strip())\n",
    "            else:\n",
    "                if line.strip() == '':\n",
    "                    candidate_init_value_list.append(1)\n",
    "                else:\n",
    "                    candidate_init_value_list.append(int(line.strip()))\n",
    "    if len(candidate_name_list) > len(candidate_init_value_list):\n",
    "        candidate_init_value_list.append(1)\n",
    "    if printme:\n",
    "        print(\"Data obtained from file \" + filename+ \" :\")\n",
    "        print(candidate_name_list)\n",
    "        print(candidate_init_value_list)\n",
    "        print(len(candidate_name_list))\n",
    "        print(len(candidate_init_value_list))\n",
    "    return candidate_name_list, candidate_init_value_list\n",
    "\n",
    "players, gall_activity = file_opener('Players.txt', True)\n",
    "UCS_writer, UCS_score = file_opener('UCSwriter.txt', True)\n",
    "UCS_player, UCS_activity = file_opener('UCSplayer.txt', True)"
   ]
  },
  {
   "cell_type": "code",
   "execution_count": 28,
   "metadata": {},
   "outputs": [
    {
     "name": "stdout",
     "output_type": "stream",
     "text": [
      "Candidate\n",
      "{'히메사카노아': 5, '만중': 5, '설화': 5, '후후훈': 5, 'srhgim': 4, 'refos': 5, '마야': 5, '124Y01SKY': 3, 'Junare': 3, 'Beez': 0, 'HL5T': 0, 'N진화': 0, 'OTDS': 5, '옥돔피트': 5, '채은서': 5, 'Kafuu': 5, 'Plutz': 5, '무초': 5, '솔2': 5, '승마': 5, 'Asura': 5, '이너임': 5, '이로오라': 5}\n",
      "\n",
      "Polling Event\n"
     ]
    }
   ],
   "source": [
    "#candidate들을 dictionary로 저장합니다.\n",
    "candidates = Candidate(players, gall_activity)\n",
    "print(candidates)"
   ]
  },
  {
   "cell_type": "code",
   "execution_count": 29,
   "metadata": {},
   "outputs": [
    {
     "name": "stdout",
     "output_type": "stream",
     "text": [
      "hi\n",
      "hi\n"
     ]
    }
   ],
   "source": [
    "candidates.add_polling_event(UCS_writer, UCS_score, \"Chicken\", 2, \"min(x,5) * y\", \"x\", \"y\")\n",
    "candidates.add_polling_event(UCS_player, UCS_activity, \"Hamburger\", 7, \"max(1, min(x,5)) * y\", \"x\", \"y\")\n"
   ]
  },
  {
   "cell_type": "code",
   "execution_count": 30,
   "metadata": {},
   "outputs": [
    {
     "name": "stdout",
     "output_type": "stream",
     "text": [
      "Candidate\n",
      "{'히메사카노아': 5, '만중': 5, '설화': 5, '후후훈': 5, 'srhgim': 4, 'refos': 5, '마야': 5, '124Y01SKY': 3, 'Junare': 3, 'Beez': 0, 'HL5T': 0, 'N진화': 0, 'OTDS': 5, '옥돔피트': 5, '채은서': 5, 'Kafuu': 5, 'Plutz': 5, '무초': 5, '솔2': 5, '승마': 5, 'Asura': 5, '이너임': 5, '이로오라': 5}\n",
      "\n",
      "Polling Event\n",
      "{'히메사카노아': 1, '만중': 1, '설화': 1, '후후훈': 1, 'srhgim': 1, 'refos': 1, '마야': 1, '124Y01SKY': 1, 'Junare': 1, 'Beez': 1, 'HL5T': 1, 'N진화': 1} Chicken 2\n",
      "Calculate: {'히메사카노아': 5.00000000000000, '만중': 5.00000000000000, '설화': 5.00000000000000, '후후훈': 5.00000000000000, 'srhgim': 4.00000000000000, 'refos': 5.00000000000000, '마야': 5.00000000000000, '124Y01SKY': 3.00000000000000, 'Junare': 3.00000000000000, 'Beez': 0, 'HL5T': 0, 'N진화': 0}\n",
      "{'N진화': 5, 'OTDS': 5, '옥돔피트': 5, '채은서': 5, 'Kafuu': 1, 'Plutz': 5, 'Junare': 5, '무초': 5, 'refos': 5, '솔2': 5, '승마': 5, 'Asura': 5, '이너임': 5, '이로오라': 5} Hamburger 7\n",
      "Calculate: {'N진화': 5.00000000000000, 'OTDS': 25.0000000000000, '옥돔피트': 25.0000000000000, '채은서': 25.0000000000000, 'Kafuu': 5.00000000000000, 'Plutz': 25.0000000000000, 'Junare': 15.0000000000000, '무초': 25.0000000000000, 'refos': 25.0000000000000, '솔2': 25.0000000000000, '승마': 25.0000000000000, 'Asura': 25.0000000000000, '이너임': 25.0000000000000, '이로오라': 25.0000000000000}\n"
     ]
    }
   ],
   "source": [
    "print(candidates)"
   ]
  },
  {
   "cell_type": "code",
   "execution_count": 77,
   "metadata": {},
   "outputs": [],
   "source": [
    "import random\n",
    "import time\n",
    "\n",
    "class WeightedVote:\n",
    "\n",
    "    def __init__(self, candidates):\n",
    "        self.candidates = candidates\n",
    "        self.total_picked_candidates = []\n",
    "    def do_weighted_vote(self, type = \"One By One\", sleep_time = None, duplicate = False):\n",
    "        if type == \"One By One\":\n",
    "            return self.poll_one_event(duplicate)\n",
    "        elif type == \"At Once\":\n",
    "            return self.spontaneous(sleep_time, duplicate)\n",
    "        else:\n",
    "            return \"Invalid Type\"\n",
    "    \n",
    "    @staticmethod\n",
    "    def select_candidate(candidates_weights):\n",
    "        total_weight = sum(candidates_weights.values())\n",
    "        probabilities = {candidate: weight / total_weight for candidate, weight in candidates_weights.items()}\n",
    "        candidates, probs = zip(*probabilities.items())\n",
    "        selected_candidate = random.choices(candidates, weights=probs, k=1)[0]\n",
    "        return selected_candidate\n",
    "    \n",
    "    def select_one_candidate(self, polling_index): #TODO\n",
    "        selected_candidate = self.select_candidate(self.candidates.polling_event[polling_index].event_evaluated)\n",
    "        return selected_candidate\n",
    "\n",
    "    def poll_one_event(self, polling_index, sleep_time, prevent_duplicate):\n",
    "        #print(\"selected: \" + str(self.total_picked_candidates))\n",
    "        candidates = []\n",
    "\n",
    "        for _ in range(self.candidates.polling_event[polling_index].prize_count):\n",
    "            selected_candidate = self.select_one_candidate(polling_index)\n",
    "            while prevent_duplicate == True and selected_candidate in self.total_picked_candidates or selected_candidate in candidates:\n",
    "                selected_candidate = self.select_one_candidate(polling_index)            \n",
    "            candidates.append(selected_candidate)\n",
    "            if prevent_duplicate:\n",
    "                self.total_picked_candidates.append(selected_candidate)\n",
    "            #print(f\"Selected Candidate: {selected_candidate}\")\n",
    "            time.sleep(sleep_time)\n",
    "        #print(candidates)\n",
    "        return candidates\n",
    "    \n",
    "    def poll_all_events(self, sleep_time, prevent_duplicate):\n",
    "        poll_results = []\n",
    "        for i in range(len(self.candidates.polling_event)):\n",
    "            one_poll = self.poll_one_event(i, sleep_time, prevent_duplicate)\n",
    "            poll_results.append(one_poll)\n",
    "            #print(\"####\")\n",
    "            #print(poll_results)\n",
    "        return poll_results\n",
    "    \n",
    "    def announce_winner(self, poll_results):\n",
    "        for i in range(len(poll_results)):\n",
    "            print(f\"Prize: {self.candidates.polling_event[i].prize_name}\")\n",
    "            print(f\"Winners: {poll_results[i]}\")\n",
    "        print()\n",
    "    def __str__(self):\n",
    "        return str(self.weighted_vote)\n",
    "    \n",
    "    def purge(self):\n",
    "        self.total_picked_candidates = []\n",
    "        return self"
   ]
  },
  {
   "cell_type": "code",
   "execution_count": 78,
   "metadata": {},
   "outputs": [
    {
     "name": "stdout",
     "output_type": "stream",
     "text": [
      "Prize: Chicken\n",
      "Winners: ['만중', '후후훈']\n",
      "Prize: Hamburger\n",
      "Winners: ['Plutz', '승마', 'refos', '이너임', '옥돔피트', 'Asura', '솔2']\n",
      "\n",
      "Prize: Chicken\n",
      "Winners: ['후후훈', 'srhgim']\n",
      "Prize: Hamburger\n",
      "Winners: ['솔2', 'OTDS', 'Asura', '승마', '채은서', 'Junare', '이너임']\n",
      "\n",
      "Prize: Chicken\n",
      "Winners: ['만중', 'refos']\n",
      "Prize: Hamburger\n",
      "Winners: ['솔2', 'Junare', '옥돔피트', 'OTDS', 'Asura', 'N진화', '이너임']\n",
      "\n",
      "Prize: Chicken\n",
      "Winners: ['히메사카노아', '124Y01SKY']\n",
      "Prize: Hamburger\n",
      "Winners: ['OTDS', '이너임', 'Plutz', 'refos', 'Asura', '무초', '이로오라']\n",
      "\n",
      "Prize: Chicken\n",
      "Winners: ['124Y01SKY', '설화']\n",
      "Prize: Hamburger\n",
      "Winners: ['OTDS', 'Asura', '무초', '이너임', 'Junare', '솔2', 'refos']\n",
      "\n",
      "Prize: Chicken\n",
      "Winners: ['마야', 'refos']\n",
      "Prize: Hamburger\n",
      "Winners: ['무초', '솔2', '승마', 'Asura', '이로오라', '이너임', '옥돔피트']\n",
      "\n"
     ]
    }
   ],
   "source": [
    "weighted_vote = WeightedVote(candidates)\n",
    "for item in range(6):\n",
    "    poll_results = weighted_vote.poll_all_events(0.01, True)\n",
    "    weighted_vote.announce_winner(poll_results)\n",
    "    weighted_vote.purge()"
   ]
  },
  {
   "cell_type": "code",
   "execution_count": 19,
   "metadata": {},
   "outputs": [
    {
     "data": {
      "text/plain": [
       "'Bob'"
      ]
     },
     "execution_count": 19,
     "metadata": {},
     "output_type": "execute_result"
    }
   ],
   "source": [
    "\n",
    "candidates_weights = {\n",
    "    'Alice': 1.5,\n",
    "    'Bob': 2.0,\n",
    "    'Charlie': 1.0,\n",
    "}\n",
    "def select_candidate(candidates_weights):\n",
    "    total_weight = sum(candidates_weights.values())\n",
    "    probabilities = {candidate: weight / total_weight for candidate, weight in candidates_weights.items()}\n",
    "    candidates, probs = zip(*probabilities.items())\n",
    "    selected_candidate = random.choices(candidates, weights=probs, k=1)[0]\n",
    "    return selected_candidate\n",
    "\n",
    "\n",
    "select_candidate(candidates_weights)"
   ]
  },
  {
   "cell_type": "code",
   "execution_count": 1,
   "metadata": {},
   "outputs": [],
   "source": [
    "\n",
    "from sympy import symbols, sympify, SympifyError\n",
    "\n",
    "def check_polling_formula(formula, var1, var2):\n",
    "    \"\"\"Parse the polling formula to create a sympy expression.\n",
    "\n",
    "    Args:\n",
    "        formula (str): The formula to parse.\n",
    "        var1 (str): The first variable allowed in the formula.\n",
    "        var2 (str): The second variable allowed in the formula.\n",
    "\n",
    "    Returns:\n",
    "        tuple: A tuple containing the sympy expression and a boolean indicating whether the formula is valid.\n",
    "    \"\"\"\n",
    "    # Define the symbols\n",
    "    allowed_vars = symbols(f'{var1} {var2}')\n",
    "    \n",
    "    try:\n",
    "        # Attempt to create an expression from the formula\n",
    "        expression = sympify(formula)\n",
    "        # Get all symbols in the expression\n",
    "        expression_symbols = expression.free_symbols\n",
    "        \n",
    "        # Check if there are any symbols in the expression that are not in the allowed list\n",
    "        is_valid = all(symbol in allowed_vars for symbol in expression_symbols)\n",
    "        \n",
    "\n",
    "    except SympifyError:\n",
    "        is_valid = False\n",
    "    \n",
    "    return is_valid\n"
   ]
  },
  {
   "cell_type": "code",
   "execution_count": 17,
   "metadata": {},
   "outputs": [
    {
     "name": "stdout",
     "output_type": "stream",
     "text": [
      "Rounded to 2 decimal places:\n",
      "{'a': '1.23', 'b': '2.35', 'c': '3.46', 'd': '6974', 'e': 'dunno'}\n",
      "\n",
      "Rounded to 3 decimal places:\n",
      "{'a': '1.23456', 'b': '2.34567', 'c': '3.45678', 'd': '6974', 'e': 'dunno'}\n"
     ]
    }
   ],
   "source": [
    "def round_dict_values(d, round_to=2):\n",
    "\n",
    "    rounded_dict = {}\n",
    "    for key, value in d.items():\n",
    "        if isinstance(value, float):\n",
    "            # If the value is a float, round it\n",
    "            rounded_dict[key] = str(round(value, round_to))\n",
    "        else:\n",
    "            # Otherwise, copy the value as is\n",
    "            rounded_dict[key] = str(value)\n",
    "    return rounded_dict\n",
    "\n",
    "# Example usage\n",
    "example_dict = {\n",
    "    \"a\": 1.23456,\n",
    "    \"b\": 2.34567,\n",
    "    \"c\": 3.45678,\n",
    "    \"d\": 6974,\n",
    "    \"e\": \"dunno\"\n",
    "}\n",
    "\n",
    "print(\"Rounded to 2 decimal places:\")\n",
    "print(round_dict_values(example_dict, round_to=2))\n",
    "\n",
    "print(\"\\nRounded to 3 decimal places:\")\n",
    "print(round_dict_values(example_dict, round_to=10))\n"
   ]
  },
  {
   "cell_type": "code",
   "execution_count": 22,
   "metadata": {},
   "outputs": [
    {
     "data": {
      "text/plain": [
       "'400.929'"
      ]
     },
     "execution_count": 22,
     "metadata": {},
     "output_type": "execute_result"
    }
   ],
   "source": [
    " \n",
    "total_weight = 400.92859280000\n",
    "\n",
    "str(round(total_weight, 3))"
   ]
  },
  {
   "cell_type": "code",
   "execution_count": 58,
   "metadata": {},
   "outputs": [],
   "source": [
    "def combination(list, count):\n",
    "    if count == 0:\n",
    "        return [[]]\n",
    "    \n",
    "    if len(list) == 0:\n",
    "        return []\n",
    "    l = []\n",
    "    for i in range(len(list)):\n",
    "        m = list[i]\n",
    "        remLst = list[i+1:]\n",
    "        for p in combination(remLst, count-1):\n",
    "            l.append([m] + p)\n",
    "    return l\n",
    "\n",
    "def reduce_possible(comb, lst):\n",
    "    for i in comb:\n",
    "        for j in i:\n",
    "            if j not in lst:\n",
    "                return False\n",
    "    return True\n",
    "\n",
    "def reduce_from_lists(comb, lst):\n",
    "    for item in lst:\n",
    "        for i in comb:\n",
    "            #print(i)\n",
    "            #print(item)\n",
    "            if i in item:\n",
    "                item.remove(i)\n",
    "    return lst\n",
    "\n"
   ]
  },
  {
   "cell_type": "code",
   "execution_count": 63,
   "metadata": {},
   "outputs": [],
   "source": []
  },
  {
   "cell_type": "code",
   "execution_count": 82,
   "metadata": {},
   "outputs": [],
   "source": [
    "def dfs(lst, counts, total_picks):\n",
    "    print(\"#\")\n",
    "    print(f\"lst: {lst}\")\n",
    "    print(f\"counts: {counts}, remaining_picks: {total_picks}\")\n",
    "  \n",
    "    if not lst or not counts:\n",
    "        print(\"Either lst or counts is empty\")\n",
    "        return False\n",
    "    #종결조건1: 다음 리스트가 카운트해야하는 수보다 적을 때\n",
    "    if len(lst[0]) < counts[0]:\n",
    "        print(\"Failed\")\n",
    "        print(\"\")\n",
    "        return False\n",
    "    \n",
    "    #종결조건2: 마지막 리스트에 남은 수가 카운트해야하는 수보다 많을 때\n",
    "    if len(lst) == 1 and counts[0] <= len(lst[0]):\n",
    "        print(\"Successful\")\n",
    "        print(\"\")\n",
    "        return True\n",
    "    \n",
    "    combinations = combination(lst[0], counts[0])\n",
    "    for comb in combinations:\n",
    "        print(f\"permute: {comb}, depth: {len(counts)}\")\n",
    "        new_picks = total_picks - counts[0]\n",
    "        new_lst = [list(set(sublst) - set(comb)) for sublst in lst[1:]] \n",
    "        print(f\"new_lst: {new_lst}\")\n",
    "        flag = dfs(new_lst, counts[1:], new_picks)\n",
    "\n",
    "        if flag == False:\n",
    "            return False\n",
    "\n",
    "    return True\n",
    "\n"
   ]
  },
  {
   "cell_type": "code",
   "execution_count": 89,
   "metadata": {},
   "outputs": [
    {
     "name": "stdout",
     "output_type": "stream",
     "text": [
      "#\n",
      "lst: [['a', 'b', 'c'], ['d', 'e', 'f'], ['f', 'g']]\n",
      "counts: [3, 2, 2], remaining_picks: 7\n",
      "permute: ['a', 'b', 'c'], depth: 3\n",
      "new_lst: [['f', 'e', 'd'], ['f', 'g']]\n",
      "#\n",
      "lst: [['f', 'e', 'd'], ['f', 'g']]\n",
      "counts: [2, 2], remaining_picks: 4\n",
      "permute: ['f', 'e'], depth: 2\n",
      "new_lst: [['g']]\n",
      "#\n",
      "lst: [['g']]\n",
      "counts: [2], remaining_picks: 2\n",
      "Failed\n",
      "\n"
     ]
    },
    {
     "data": {
      "text/plain": [
       "False"
      ]
     },
     "execution_count": 89,
     "metadata": {},
     "output_type": "execute_result"
    }
   ],
   "source": [
    "all = [\"a\", \"b\", \"c\", \"d\", \"e\", \"f\", \"g\"]\n",
    "\n",
    "a = [\"a\", \"b\", \"c\", ]\n",
    "a_num = 3\n",
    "b = [\"d\",\"e\", \"f\"]\n",
    "b_num = 2\n",
    "c = [\"f\", \"g\"]\n",
    "c_num = 2\n",
    "\n",
    "lists = [a, b, c]\n",
    "numbers = [a_num, b_num, c_num]\n",
    "dfs(lists, numbers, 7)"
   ]
  },
  {
   "cell_type": "markdown",
   "metadata": {},
   "source": [
    "[1,2,3,4], 3 \n",
    "--\n",
    "          1[2,3,4]                2[1,3,4]               3[2,3,4]           4[1,2,3] \n",
    "   2[3,4] 3[2,4] 4[2,3]  1[3,4]  3[1,4] 4[1,3]  2[3,4] 3[2,4] 4[2,3]  1[2,3] 2[1,3] 3[1,2]\n",
    "3[4]4[3]..\n"
   ]
  },
  {
   "cell_type": "code",
   "execution_count": 72,
   "metadata": {},
   "outputs": [
    {
     "ename": "TypeError",
     "evalue": "'list' object is not callable",
     "output_type": "error",
     "traceback": [
      "\u001b[1;31m---------------------------------------------------------------------------\u001b[0m",
      "\u001b[1;31mTypeError\u001b[0m                                 Traceback (most recent call last)",
      "Cell \u001b[1;32mIn[72], line 34\u001b[0m\n\u001b[0;32m     31\u001b[0m             l\u001b[38;5;241m.\u001b[39mappend([m] \u001b[38;5;241m+\u001b[39m p)\n\u001b[0;32m     32\u001b[0m     \u001b[38;5;28;01mreturn\u001b[39;00m l\n\u001b[1;32m---> 34\u001b[0m \u001b[43mpermute\u001b[49m\u001b[43m(\u001b[49m\u001b[43m[\u001b[49m\u001b[38;5;241;43m1\u001b[39;49m\u001b[43m,\u001b[49m\u001b[38;5;241;43m2\u001b[39;49m\u001b[43m,\u001b[49m\u001b[38;5;241;43m3\u001b[39;49m\u001b[43m]\u001b[49m\u001b[43m,\u001b[49m\u001b[43m \u001b[49m\u001b[38;5;241;43m3\u001b[39;49m\u001b[43m)\u001b[49m\n\u001b[0;32m     36\u001b[0m combination([\u001b[38;5;241m1\u001b[39m,\u001b[38;5;241m2\u001b[39m,\u001b[38;5;241m3\u001b[39m], \u001b[38;5;241m3\u001b[39m)\n",
      "Cell \u001b[1;32mIn[72], line 15\u001b[0m, in \u001b[0;36mpermute\u001b[1;34m(list, count)\u001b[0m\n\u001b[0;32m     13\u001b[0m     m \u001b[38;5;241m=\u001b[39m \u001b[38;5;28mlist\u001b[39m[item]\n\u001b[0;32m     14\u001b[0m     remLst \u001b[38;5;241m=\u001b[39m \u001b[38;5;28mlist\u001b[39m[:item] \u001b[38;5;241m+\u001b[39m \u001b[38;5;28mlist\u001b[39m[item\u001b[38;5;241m+\u001b[39m\u001b[38;5;241m1\u001b[39m:]\n\u001b[1;32m---> 15\u001b[0m     \u001b[38;5;28;01mfor\u001b[39;00m p \u001b[38;5;129;01min\u001b[39;00m \u001b[43mpermute\u001b[49m\u001b[43m(\u001b[49m\u001b[43mremLst\u001b[49m\u001b[43m,\u001b[49m\u001b[43m \u001b[49m\u001b[43mcount\u001b[49m\u001b[38;5;241;43m-\u001b[39;49m\u001b[38;5;241;43m1\u001b[39;49m\u001b[43m)\u001b[49m:\n\u001b[0;32m     16\u001b[0m         permute\u001b[38;5;241m.\u001b[39mappend([m] \u001b[38;5;241m+\u001b[39m p)\n\u001b[0;32m     18\u001b[0m \u001b[38;5;28;01mreturn\u001b[39;00m permute\n",
      "\u001b[1;31mTypeError\u001b[0m: 'list' object is not callable"
     ]
    }
   ],
   "source": [
    "#abc c  [bc]\n",
    "\n",
    "\n",
    "def permute(list, count):\n",
    "    if count == 0:\n",
    "        return [[]]\n",
    "    if len(list) == 0:\n",
    "        return []\n",
    "    \n",
    "    permute = []\n",
    "    \n",
    "    for item in range(len(list)):\n",
    "        m = list[item]\n",
    "        remLst = list[:item] + list[item+1:]\n",
    "        for p in permute(remLst, count-1):\n",
    "            permute.append([m] + p)\n",
    "    \n",
    "    return permute\n",
    "\n",
    "def combination(list, count):\n",
    "    if count == 0:\n",
    "        return [[]]\n",
    "    \n",
    "    if len(list) == 0:\n",
    "        return []\n",
    "    l = []\n",
    "    for i in range(len(list)):\n",
    "        m = list[i]\n",
    "        remLst = list[i+1:]\n",
    "        for p in combination(remLst, count-1):\n",
    "            l.append([m] + p)\n",
    "    return l\n",
    "\n",
    "permute([1,2,3], 3)\n",
    "\n",
    "combination([1,2,3], 3)"
   ]
  },
  {
   "cell_type": "code",
   "execution_count": 40,
   "metadata": {},
   "outputs": [
    {
     "data": {
      "text/plain": [
       "[[2, 3], [2, 3, 4]]"
      ]
     },
     "execution_count": 40,
     "metadata": {},
     "output_type": "execute_result"
    }
   ],
   "source": [
    "def reduce_from_lists(comb, lst):\n",
    "    for item in lst:\n",
    "        for i in comb:\n",
    "            for j in i:\n",
    "                if j in item:\n",
    "                    item.remove(j)\n",
    "    return lst\n",
    "\n",
    "reduce_from_lists([[1]], [[1,2,3], [2,3,4]])"
   ]
  }
 ],
 "metadata": {
  "kernelspec": {
   "display_name": "streamlit-app",
   "language": "python",
   "name": "python3"
  },
  "language_info": {
   "codemirror_mode": {
    "name": "ipython",
    "version": 3
   },
   "file_extension": ".py",
   "mimetype": "text/x-python",
   "name": "python",
   "nbconvert_exporter": "python",
   "pygments_lexer": "ipython3",
   "version": "3.8.18"
  }
 },
 "nbformat": 4,
 "nbformat_minor": 2
}
